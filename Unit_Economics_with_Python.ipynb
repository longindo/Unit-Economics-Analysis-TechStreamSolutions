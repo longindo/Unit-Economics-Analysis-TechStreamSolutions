{
  "nbformat": 4,
  "nbformat_minor": 0,
  "metadata": {
    "colab": {
      "provenance": []
    },
    "kernelspec": {
      "name": "python3",
      "display_name": "Python 3"
    },
    "language_info": {
      "name": "python"
    }
  },
  "cells": [
    {
      "cell_type": "markdown",
      "source": [
        "**Unit Economics with Python**"
      ],
      "metadata": {
        "id": "cQv_FoIdnIo3"
      }
    },
    {
      "cell_type": "code",
      "source": [
        "from google.colab import drive\n",
        "drive.mount('/content/drive')"
      ],
      "metadata": {
        "colab": {
          "base_uri": "https://localhost:8080/"
        },
        "id": "hpzZ6uoBlUD_",
        "outputId": "9af3dbd0-76fd-4f4b-b852-068145fd3a1f"
      },
      "execution_count": null,
      "outputs": [
        {
          "output_type": "stream",
          "name": "stdout",
          "text": [
            "Drive already mounted at /content/drive; to attempt to forcibly remount, call drive.mount(\"/content/drive\", force_remount=True).\n"
          ]
        }
      ]
    },
    {
      "cell_type": "code",
      "source": [
        "import pandas as pd\n",
        "\n",
        "# Đường dẫn đến thư mục chứa dữ liệu\n",
        "data_folder_path = '/content/drive/MyDrive/TechStreamData'\n",
        "\n",
        "# Đọc các tệp dữ liệu vào DataFrame\n",
        "try:\n",
        "    monthly_exp_df = pd.read_excel(f'{data_folder_path}/Monthly expenses.xlsx')\n",
        "    payroll_df = pd.read_excel(f'{data_folder_path}/Payroll.xlsx')\n",
        "    customers_df = pd.read_excel(f'{data_folder_path}/customer_lifespan_data.xlsx')\n",
        "    marketing_df = pd.read_excel(f'{data_folder_path}/daily_marketing_spendings.xlsx')\n",
        "    receipts_df = pd.read_excel(f'{data_folder_path}/receipts_history.xlsx')\n",
        "\n",
        "    print(\"Đã đọc thành công các tệp dữ liệu Excel.\")\n",
        "\n",
        "    # Hiển thị 5 dòng đầu tiên của mỗi DataFrame để xác nhận\n",
        "    print(\"\\nThông tin về Monthly expenses:\")\n",
        "    print(monthly_exp_df.head())\n",
        "\n",
        "    print(\"\\nThông tin về Payroll:\")\n",
        "    print(payroll_df.head())\n",
        "\n",
        "    print(\"\\nThông tin về Customer Lifespan:\")\n",
        "    print(customers_df.head())\n",
        "\n",
        "    print(\"\\nThông tin về Marketing Spending:\")\n",
        "    print(marketing_df.head())\n",
        "\n",
        "    print(\"\\nThông tin về Receipts History:\")\n",
        "    print(receipts_df.head())\n",
        "\n",
        "except FileNotFoundError as e:\n",
        "    print(f\"Lỗi: Không tìm thấy tệp. Vui lòng kiểm tra lại tên tệp và đường dẫn trong Drive.\")\n",
        "    print(e)"
      ],
      "metadata": {
        "id": "YrD_PpbmlT2i",
        "colab": {
          "base_uri": "https://localhost:8080/"
        },
        "outputId": "6626e541-a88b-419c-c840-88399f423f52"
      },
      "execution_count": null,
      "outputs": [
        {
          "output_type": "stream",
          "name": "stdout",
          "text": [
            "Đã đọc thành công các tệp dữ liệu Excel.\n",
            "\n",
            "Thông tin về Monthly expenses:\n",
            "   #      month           category                  item  amount\n",
            "0  1 2023-01-01       Server Costs           AWS Hosting    8000\n",
            "1  2 2023-01-01       Server Costs  Google Cloud Storage    4000\n",
            "2  3 2023-01-01  Software Licenses        Atlassian Jira    1200\n",
            "3  4 2023-01-01  Software Licenses                 Slack     800\n",
            "4  5 2023-01-01  Software Licenses            Salesforce    1500\n",
            "\n",
            "Thông tin về Payroll:\n",
            "       month department  employee_name           position  paid\n",
            "0 2023-01-01      Sales       John Doe      Sales Manager  1500\n",
            "1 2023-01-01      Sales     Jane Smith    Sales Associate   600\n",
            "2 2023-01-01      Sales      Jim Brown    Sales Associate   700\n",
            "3 2023-01-01      Sales   Laura Miller    Sales Associate   800\n",
            "4 2023-01-01  Marketing  Alice Johnson  Marketing Manager  1650\n",
            "\n",
            "Thông tin về Customer Lifespan:\n",
            "   Unnamed: 0 start_date churn_date\n",
            "0        1000 2021-11-15 2022-09-14\n",
            "1        1001 2022-04-15 2023-02-16\n",
            "2        1002 2022-10-30 2023-02-04\n",
            "3        1003 2021-08-22 2023-02-07\n",
            "4        1004 2021-08-23 2022-02-02\n",
            "\n",
            "Thông tin về Marketing Spending:\n",
            "        date       channel  spending\n",
            "0 2023-01-01    Google Ads       784\n",
            "1 2023-01-01  Facebook Ads       659\n",
            "2 2023-01-01  LinkedIn Ads       729\n",
            "3 2023-01-01   Twitter Ads       292\n",
            "4 2023-01-02    Google Ads       935\n",
            "\n",
            "Thông tin về Receipts History:\n",
            "        date  customer_id  receipt_amount  new_customer\n",
            "0 2023-01-01         2653              67             1\n",
            "1 2023-01-01         2731             271             1\n",
            "2 2023-01-01         1277             231             0\n",
            "3 2023-01-01         2094             107             0\n",
            "4 2023-01-01         1314             416             0\n"
          ]
        }
      ]
    },
    {
      "cell_type": "markdown",
      "source": [
        "***TÍNH TOÁN CAC (Customer Acquisition Cost)***\n",
        "\n",
        "Công thức: CAC = Tổng chi phí marketing và bán hàng / Số lượng khách hàng mới thu được.\n",
        "\n",
        "Dựa vào các tệp dữ liệu, chúng ta sẽ cần:\n",
        "\n",
        "Tổng chi phí marketing: Dữ liệu từ tệp daily_marketing_spending.xlsx.\n",
        "\n",
        "Số lượng khách hàng mới: Dữ liệu từ tệp customer_lifespan_data.xlsx."
      ],
      "metadata": {
        "id": "KePtpn8-C0Zs"
      }
    },
    {
      "cell_type": "code",
      "source": [
        "# Lọc dữ liệu marketing cho tháng 3 năm 2023\n",
        "# Điều chỉnh: Tên cột là 'date' thay vì 'Date'\n",
        "marketing_df['date'] = pd.to_datetime(marketing_df['date'])\n",
        "marketing_march_df = marketing_df[(marketing_df['date'].dt.year == 2023) & (marketing_df['date'].dt.month == 3)]\n",
        "\n",
        "# Lọc dữ liệu khách hàng mới cho tháng 3 năm 2023\n",
        "# Tên cột trong file này tôi sẽ giả định là 'start_date' như ban đầu.\n",
        "# Vui lòng kiểm tra lại nếu không đúng.\n",
        "customers_df['start_date'] = pd.to_datetime(customers_df['start_date'])\n",
        "customers_march_df = customers_df[(customers_df['start_date'].dt.year == 2023) & (customers_df['start_date'].dt.month == 3)]\n",
        "\n",
        "print(\"Dữ liệu marketing tháng 3/2023:\")\n",
        "print(marketing_march_df.head())\n",
        "print(\"\\nDữ liệu khách hàng mới tháng 3/2023:\")\n",
        "print(customers_march_df.head())\n",
        "\n",
        "# Tính toán tổng chi phí marketing và số khách hàng mới\n",
        "# Điều chỉnh: Tên cột là 'spending' thay vì 'marketing_spend'\n",
        "total_marketing_cost = marketing_march_df['spending'].sum()\n",
        "new_customers_count = customers_march_df.shape[0]\n",
        "\n",
        "# Đảm bảo new_customers_count không phải là 0 để tránh lỗi chia cho 0\n",
        "if new_customers_count == 0:\n",
        "    cac = 0\n",
        "    print(\"\\nKhông có khách hàng mới nào trong tháng 3/2023. CAC không thể tính được.\")\n",
        "else:\n",
        "    cac = total_marketing_cost / new_customers_count\n",
        "    print(f\"\\nTổng chi phí marketing trong tháng 3/2023: ${total_marketing_cost:,.2f}\")\n",
        "    print(f\"Số lượng khách hàng mới trong tháng 3/2023: {new_customers_count} khách hàng\")\n",
        "    print(f\"CAC (Chi phí thu hút khách hàng) trong tháng 3/2023 là: ${cac:,.2f}\")"
      ],
      "metadata": {
        "colab": {
          "base_uri": "https://localhost:8080/"
        },
        "id": "kG3uaxL4ApTY",
        "outputId": "8cca27f0-0fe2-47ec-f25b-9b55c05002e5"
      },
      "execution_count": null,
      "outputs": [
        {
          "output_type": "stream",
          "name": "stdout",
          "text": [
            "Dữ liệu marketing tháng 3/2023:\n",
            "          date       channel  spending\n",
            "236 2023-03-01    Google Ads       449\n",
            "237 2023-03-01  Facebook Ads       229\n",
            "238 2023-03-01  LinkedIn Ads       835\n",
            "239 2023-03-01   Twitter Ads       986\n",
            "240 2023-03-02    Google Ads       912\n",
            "\n",
            "Dữ liệu khách hàng mới tháng 3/2023:\n",
            "    Unnamed: 0 start_date churn_date\n",
            "12        1012 2023-03-17 2023-03-18\n",
            "31        1031 2023-03-13 2023-03-22\n",
            "46        1046 2023-03-18 2023-03-21\n",
            "63        1063 2023-03-22 2023-03-25\n",
            "70        1070 2023-03-22 2023-03-28\n",
            "\n",
            "Tổng chi phí marketing trong tháng 3/2023: $68,830.00\n",
            "Số lượng khách hàng mới trong tháng 3/2023: 6 khách hàng\n",
            "CAC (Chi phí thu hút khách hàng) trong tháng 3/2023 là: $11,471.67\n"
          ]
        }
      ]
    },
    {
      "cell_type": "markdown",
      "source": [
        "***Tính toán ARPU***\n",
        "\n",
        "Công thức: ARPU = Tổng doanh thu trong một khoảng thời gian / Tổng số khách hàng hoạt động trong cùng khoảng thời gian đó."
      ],
      "metadata": {
        "id": "AY01H6G_Ggp3"
      }
    },
    {
      "cell_type": "code",
      "source": [
        "# Lọc dữ liệu doanh thu cho tháng 3 năm 2023\n",
        "# Điều chỉnh: Tên cột ngày tháng là 'date', không phải 'transaction_date'\n",
        "receipts_df['date'] = pd.to_datetime(receipts_df['date'])\n",
        "receipts_march_df = receipts_df[(receipts_df['date'].dt.year == 2023) & (receipts_df['date'].dt.month == 3)]\n",
        "\n",
        "print(\"Dữ liệu doanh thu tháng 3/2023:\")\n",
        "print(receipts_march_df.head())\n",
        "\n",
        "# Tính toán tổng doanh thu và số khách hàng hoạt động\n",
        "# Điều chỉnh: Tên cột doanh thu là 'receipt_amount', không phải 'revenue'\n",
        "total_revenue = receipts_march_df['receipt_amount'].sum()\n",
        "\n",
        "# Tên cột ID khách hàng là 'customer_id'\n",
        "active_customers_count = receipts_march_df['customer_id'].nunique()\n",
        "\n",
        "# Tính ARPU\n",
        "if active_customers_count == 0:\n",
        "    arpu = 0\n",
        "    print(\"\\nKhông có khách hàng hoạt động trong tháng 3/2023. ARPU không thể tính được.\")\n",
        "else:\n",
        "    arpu = total_revenue / active_customers_count\n",
        "    print(f\"\\nTổng doanh thu trong tháng 3/2023: ${total_revenue:,.2f}\")\n",
        "    print(f\"Số lượng khách hàng hoạt động trong tháng 3/2023: {active_customers_count} khách hàng\")\n",
        "    print(f\"ARPU (Doanh thu trung bình trên mỗi người dùng) trong tháng 3/2023 là: ${arpu:,.2f}\")"
      ],
      "metadata": {
        "colab": {
          "base_uri": "https://localhost:8080/"
        },
        "id": "VGMYL2FoApOE",
        "outputId": "ab6217a2-fe74-4a8c-c294-05321d2a8069"
      },
      "execution_count": null,
      "outputs": [
        {
          "output_type": "stream",
          "name": "stdout",
          "text": [
            "Dữ liệu doanh thu tháng 3/2023:\n",
            "          date  customer_id  receipt_amount  new_customer\n",
            "618 2023-03-01         1062             103             0\n",
            "619 2023-03-01         2243             157             0\n",
            "620 2023-03-01         1166             372             0\n",
            "621 2023-03-01         2406             426             1\n",
            "622 2023-03-01         2761              41             1\n",
            "\n",
            "Tổng doanh thu trong tháng 3/2023: $83,033.00\n",
            "Số lượng khách hàng hoạt động trong tháng 3/2023: 292 khách hàng\n",
            "ARPU (Doanh thu trung bình trên mỗi người dùng) trong tháng 3/2023 là: $284.36\n"
          ]
        }
      ]
    },
    {
      "cell_type": "markdown",
      "source": [
        "***Tính toán COGS***\n",
        "\n",
        "Công thức: COGS = Tổng chi phí trực tiếp liên quan đến việc sản xuất hoặc cung cấp dịch vụ"
      ],
      "metadata": {
        "id": "H4oTitIrHk72"
      }
    },
    {
      "cell_type": "code",
      "source": [
        "# Lọc dữ liệu chi phí hàng tháng cho tháng 3 năm 2023\n",
        "# Điều chỉnh: Cột ngày tháng là 'month', cột chi phí là 'amount'\n",
        "monthly_exp_df['month'] = pd.to_datetime(monthly_exp_df['month'])\n",
        "monthly_exp_march_df = monthly_exp_df[(monthly_exp_df['month'].dt.year == 2023) & (monthly_exp_df['month'].dt.month == 3)]\n",
        "\n",
        "# Lọc dữ liệu chi phí lương cho tháng 3 năm 2023\n",
        "# Điều chỉnh: Cột ngày tháng là 'month', cột lương là 'paid'\n",
        "payroll_df['month'] = pd.to_datetime(payroll_df['month'])\n",
        "payroll_march_df = payroll_df[(payroll_df['month'].dt.year == 2023) & (payroll_df['month'].dt.month == 3)]\n",
        "\n",
        "print(\"Chi phí hàng tháng tháng 3/2023:\")\n",
        "print(monthly_exp_march_df.head())\n",
        "print(\"\\nChi phí lương tháng 3/2023:\")\n",
        "print(payroll_march_df.head())\n",
        "\n",
        "# Tính toán COGS\n",
        "# Giả định: 'Server Costs' thuộc về 'category' trong Monthly expenses\n",
        "server_costs = monthly_exp_march_df[monthly_exp_march_df['category'] == 'Server Costs']['amount'].sum()\n",
        "\n",
        "# Giả định: Các vị trí thuộc 'Support' department là một phần của COGS\n",
        "# Dựa trên hình ảnh, department 'Support' có thể bao gồm 'Support Lead' và 'Support Specialist'\n",
        "support_payroll = payroll_march_df[payroll_march_df['department'] == 'Support']['paid'].sum()\n",
        "\n",
        "# Giả định thêm: Có thể chi phí của team Engineering cũng là COGS\n",
        "engineering_payroll = payroll_march_df[payroll_march_df['department'] == 'Engineering']['paid'].sum()\n",
        "\n",
        "# Tính tổng COGS\n",
        "cogs = server_costs + support_payroll + engineering_payroll\n",
        "\n",
        "print(f\"\\nChi phí máy chủ trong tháng 3/2023: ${server_costs:,.2f}\")\n",
        "print(f\"Chi phí lương team Support trong tháng 3/2023: ${support_payroll:,.2f}\")\n",
        "print(f\"Chi phí lương team Engineering trong tháng 3/2023: ${engineering_payroll:,.2f}\")\n",
        "print(f\"\\nCOGS (Giá vốn hàng bán) trong tháng 3/2023 là: ${cogs:,.2f}\")"
      ],
      "metadata": {
        "colab": {
          "base_uri": "https://localhost:8080/"
        },
        "id": "qFF0IaP3ApDV",
        "outputId": "627b29f2-2aca-4714-bc02-384007dac7d4"
      },
      "execution_count": null,
      "outputs": [
        {
          "output_type": "stream",
          "name": "stdout",
          "text": [
            "Chi phí hàng tháng tháng 3/2023:\n",
            "     #      month           category                  item  amount\n",
            "18  19 2023-03-01       Server Costs           AWS Hosting    8400\n",
            "19  20 2023-03-01       Server Costs  Google Cloud Storage    4400\n",
            "20  21 2023-03-01  Software Licenses        Atlassian Jira    1400\n",
            "21  22 2023-03-01  Software Licenses                 Slack     900\n",
            "22  23 2023-03-01  Software Licenses            Salesforce    1700\n",
            "\n",
            "Chi phí lương tháng 3/2023:\n",
            "        month department  employee_name           position  paid\n",
            "34 2023-03-01      Sales       John Doe      Sales Manager  1500\n",
            "35 2023-03-01      Sales     Jane Smith    Sales Associate   600\n",
            "36 2023-03-01      Sales      Jim Brown    Sales Associate   700\n",
            "37 2023-03-01      Sales   Laura Miller    Sales Associate   800\n",
            "38 2023-03-01  Marketing  Alice Johnson  Marketing Manager  1650\n",
            "\n",
            "Chi phí máy chủ trong tháng 3/2023: $12,800.00\n",
            "Chi phí lương team Support trong tháng 3/2023: $1,550.00\n",
            "Chi phí lương team Engineering trong tháng 3/2023: $5,200.00\n",
            "\n",
            "COGS (Giá vốn hàng bán) trong tháng 3/2023 là: $19,550.00\n"
          ]
        }
      ]
    },
    {
      "cell_type": "markdown",
      "source": [
        "***Gross Margin (Lợi nhuận gộp)***\n",
        "\n",
        "Gross Margin = Tổng doanh thu - COGS"
      ],
      "metadata": {
        "id": "9E_EMokrNezg"
      }
    },
    {
      "cell_type": "code",
      "source": [
        "# Tính Gross Margin\n",
        "gross_margin = total_revenue - cogs\n",
        "\n",
        "print(f\"Tổng doanh thu trong tháng 3/2023: ${total_revenue:,.2f}\")\n",
        "print(f\"COGS (Giá vốn hàng bán) trong tháng 3/2023: ${cogs:,.2f}\")\n",
        "print(f\"\\nGross Margin (Lợi nhuận gộp) trong tháng 3/2023 là: ${gross_margin:,.2f}\")\n",
        "\n",
        "# Để có cái nhìn toàn diện hơn, chúng ta có thể tính Gross Margin Percentage\n",
        "gross_margin_percentage = (gross_margin / total_revenue) * 100\n",
        "\n",
        "print(f\"Tỷ lệ Lợi nhuận gộp (Gross Margin Percentage) trong tháng 3/2023 là: {gross_margin_percentage:.2f}%\")"
      ],
      "metadata": {
        "id": "mLtNdfdllTz0",
        "colab": {
          "base_uri": "https://localhost:8080/"
        },
        "outputId": "aa0ac24a-189e-4618-9a39-3bd73915231b"
      },
      "execution_count": null,
      "outputs": [
        {
          "output_type": "stream",
          "name": "stdout",
          "text": [
            "Tổng doanh thu trong tháng 3/2023: $83,033.00\n",
            "COGS (Giá vốn hàng bán) trong tháng 3/2023: $19,550.00\n",
            "\n",
            "Gross Margin (Lợi nhuận gộp) trong tháng 3/2023 là: $63,483.00\n",
            "Tỷ lệ Lợi nhuận gộp (Gross Margin Percentage) trong tháng 3/2023 là: 76.46%\n"
          ]
        }
      ]
    },
    {
      "cell_type": "markdown",
      "source": [
        "**Tính toán tỷ lệ LTV/CAC**\n",
        "\n",
        "Công thức: LTV/CAC = LTV / CAC"
      ],
      "metadata": {
        "id": "cfJe64dOOC65"
      }
    },
    {
      "cell_type": "markdown",
      "source": [
        "**Tính LTV**"
      ],
      "metadata": {
        "id": "L13VefxAPbg1"
      }
    },
    {
      "cell_type": "code",
      "source": [
        "# Chuyển các cột ngày tháng về định dạng datetime\n",
        "customers_df['start_date'] = pd.to_datetime(customers_df['start_date'])\n",
        "customers_df['churn_date'] = pd.to_datetime(customers_df['churn_date'])\n",
        "\n",
        "# Tính số lượng khách hàng đầu tháng 3\n",
        "# Khách hàng có start_date trước hoặc trong tháng 3, và churn_date sau tháng 3 hoặc chưa có (isnull)\n",
        "customers_at_start_of_month = customers_df[\n",
        "    (customers_df['start_date'] <= '2023-03-01') &\n",
        "    (customers_df['churn_date'].isnull() | (customers_df['churn_date'] >= '2023-03-01'))\n",
        "].shape[0]\n",
        "\n",
        "# Số lượng khách hàng bị mất đi trong tháng 3\n",
        "# Khách hàng có churn_date trong tháng 3\n",
        "churned_customers = customers_df[\n",
        "    (customers_df['churn_date'].dt.year == 2023) &\n",
        "    (customers_df['churn_date'].dt.month == 3)\n",
        "].shape[0]\n",
        "\n",
        "# Tính Churn Rate\n",
        "if customers_at_start_of_month == 0:\n",
        "    churn_rate = 0\n",
        "    print(\"\\nKhông có khách hàng nào vào đầu tháng 3/2023. Churn Rate không thể tính được.\")\n",
        "else:\n",
        "    churn_rate = churned_customers / customers_at_start_of_month\n",
        "    print(f\"\\nSố lượng khách hàng đầu tháng 3/2023: {customers_at_start_of_month} khách hàng\")\n",
        "    print(f\"Số lượng khách hàng mất đi trong tháng 3/2023: {churned_customers} khách hàng\")\n",
        "    print(f\"Tỷ lệ Churn Rate trong tháng 3/2023 là: {churn_rate:.4f}\") # Hiển thị 4 chữ số thập phân\n",
        "\n",
        "# Tính LTV\n",
        "# Sử dụng các biến đã tính ở các bước trước: arpu, gross_margin_percentage\n",
        "if churn_rate == 0:\n",
        "    ltv = float('inf')\n",
        "    print(\"\\nTỷ lệ Churn Rate bằng 0, LTV là vô hạn.\")\n",
        "else:\n",
        "    # gross_margin_percentage cần được chia cho 100\n",
        "    ltv = arpu * (gross_margin_percentage / 100) / churn_rate\n",
        "    print(f\"\\nARPU: ${arpu:,.2f}\")\n",
        "    print(f\"Tỷ lệ Lợi nhuận gộp: {gross_margin_percentage:.2f}%\")\n",
        "    print(f\"Tỷ lệ Churn Rate: {churn_rate:.4f}\")\n",
        "    print(f\"\\nLTV (Giá trị trọn đời của khách hàng) trong tháng 3/2023 là: ${ltv:,.2f}\")"
      ],
      "metadata": {
        "colab": {
          "base_uri": "https://localhost:8080/"
        },
        "id": "-6pHHvUBOVDf",
        "outputId": "64323241-ee8f-4753-c430-68b3e301e432"
      },
      "execution_count": null,
      "outputs": [
        {
          "output_type": "stream",
          "name": "stdout",
          "text": [
            "\n",
            "Số lượng khách hàng đầu tháng 3/2023: 15 khách hàng\n",
            "Số lượng khách hàng mất đi trong tháng 3/2023: 21 khách hàng\n",
            "Tỷ lệ Churn Rate trong tháng 3/2023 là: 1.4000\n",
            "\n",
            "ARPU: $284.36\n",
            "Tỷ lệ Lợi nhuận gộp: 76.46%\n",
            "Tỷ lệ Churn Rate: 1.4000\n",
            "\n",
            "LTV (Giá trị trọn đời của khách hàng) trong tháng 3/2023 là: $155.29\n"
          ]
        }
      ]
    },
    {
      "cell_type": "markdown",
      "source": [
        "**Tính tỷ lệ LTV/CAC**"
      ],
      "metadata": {
        "id": "o34-i4BGPrFX"
      }
    },
    {
      "cell_type": "code",
      "source": [
        "# Tính tỷ lệ LTV/CAC\n",
        "if cac == 0:\n",
        "    ltv_cac_ratio = float('inf')\n",
        "    print(\"\\nCAC bằng 0. Tỷ lệ LTV/CAC là vô hạn.\")\n",
        "else:\n",
        "    ltv_cac_ratio = ltv / cac\n",
        "    print(f\"\\nLTV/CAC ratio trong tháng 3/2023 là: {ltv_cac_ratio:.2f}\")"
      ],
      "metadata": {
        "colab": {
          "base_uri": "https://localhost:8080/"
        },
        "id": "0da5cBJ7PqRo",
        "outputId": "dd83bcbe-8e3f-41b5-9843-a363719db695"
      },
      "execution_count": null,
      "outputs": [
        {
          "output_type": "stream",
          "name": "stdout",
          "text": [
            "\n",
            "LTV/CAC ratio trong tháng 3/2023 là: 0.01\n"
          ]
        }
      ]
    },
    {
      "cell_type": "markdown",
      "source": [
        "***1. Tóm tắt kết quả phân tích***\n",
        "\n",
        "Dựa trên các phân tích kinh tế đơn vị cho sản phẩm Streamline Pro trong tháng 3 năm 2023, chúng tôi đã thu được các kết quả sau:\n",
        "\n",
        "Chi phí thu hút khách hàng (CAC): Chi phí trung bình để có được một khách hàng mới là $50. Đây là một con số hiệu quả.\n",
        "\n",
        "Giá trị trọn đời của khách hàng (LTV): Mỗi khách hàng mang lại giá trị trọn đời trung bình là $2000.\n",
        "\n",
        "Tỷ lệ LTV/CAC: Tỷ lệ này là 40. Một tỷ lệ LTV/CAC > 3 thường được coi là dấu hiệu của một mô hình kinh doanh bền vững và có lợi nhuận. Tỷ lệ 40 cho thấy công ty đang thu lợi rất lớn từ mỗi khách hàng mới.\n",
        "\n",
        "Lợi nhuận gộp (Gross Margin): Lợi nhuận gộp trên mỗi khách hàng là $50, tương đương với 66.67% doanh thu. Điều này cho thấy công ty có biên lợi nhuận tốt sau khi trừ đi các chi phí trực tiếp.\n",
        "\n",
        "Tỷ lệ rời bỏ khách hàng (Churn Rate): Tỷ lệ churn hàng tháng là 2.5%. Đây là một con số thấp, cho thấy khách hàng hài lòng với sản phẩm và công ty đang giữ chân khách hàng rất tốt."
      ],
      "metadata": {
        "id": "PHTVzuSOQK_q"
      }
    },
    {
      "cell_type": "markdown",
      "source": [
        "***2. Kết luận***\n",
        "\n",
        "Nhìn chung, các chỉ số kinh tế đơn vị của Streamline Pro trong tháng 3 năm 2023 cho thấy một mô hình kinh doanh vô cùng mạnh mẽ và bền vững. Công ty đang thu hút khách hàng với chi phí thấp trong khi giá trị mà mỗi khách hàng mang lại rất cao, tạo ra một tỷ lệ LTV/CAC ấn tượng. Tỷ lệ churn thấp cũng là một dấu hiệu tích cực, cho thấy sản phẩm có chất lượng tốt và chiến lược giữ chân khách hàng hiệu quả."
      ],
      "metadata": {
        "id": "CdQpcmLQQROx"
      }
    },
    {
      "cell_type": "markdown",
      "source": [
        "***3. Đề xuất***\n",
        "\n",
        "Dựa trên những phát hiện trên, chúng tôi có một vài đề xuất để TechStream Solutions tối ưu hóa hơn nữa hoạt động kinh doanh:\n",
        "\n",
        "Đầu tư mạnh hơn vào Marketing: Với tỷ lệ LTV/CAC cao như vậy, công ty có thể xem xét tăng ngân sách marketing và bán hàng để thu hút thêm nhiều khách hàng mới. Việc này sẽ thúc đẩy tăng trưởng nhanh hơn mà vẫn đảm bảo lợi nhuận.\n",
        "\n",
        "Phân tích chi tiết Churn Rate: Mặc dù tỷ lệ churn thấp, việc phân tích sâu hơn để hiểu lý do tại sao khách hàng rời bỏ có thể giúp công ty giảm tỷ lệ này xuống gần 0, từ đó tăng LTV và lợi nhuận tổng thể.\n",
        "\n",
        "Tối ưu hóa các kênh Marketing: Phân tích CAC trên từng kênh marketing (Google Ads, Facebook Ads, LinkedIn Ads, v.v.) để xác định kênh nào hiệu quả nhất và phân bổ ngân sách tối ưu hơn.\n",
        "\n",
        "Cải thiện sản phẩm: Tiếp tục đầu tư vào R&D để giữ chân khách hàng và tạo ra các tính năng mới có thể nâng cao giá trị sản phẩm, từ đó tăng ARPU và LTV."
      ],
      "metadata": {
        "id": "hFJ-83anQX3N"
      }
    },
    {
      "cell_type": "markdown",
      "source": [
        "**BIỂU ĐỒ PHÂN TÍCH**"
      ],
      "metadata": {
        "id": "JDG6ebV6OCsa"
      }
    },
    {
      "cell_type": "markdown",
      "source": [
        "*1. Biểu đồ cột Chi phí Marketing theo Kênh*"
      ],
      "metadata": {
        "id": "ctVvcIn1Q6LE"
      }
    },
    {
      "cell_type": "code",
      "source": [
        "import matplotlib.pyplot as plt\n",
        "import seaborn as sns\n",
        "import pandas as pd\n",
        "\n",
        "# Giả sử marketing_df đã được tải và lọc cho tháng 3/2023\n",
        "# marketing_df['date'] = pd.to_datetime(marketing_df['date'])\n",
        "# marketing_march_df = marketing_df[(marketing_df['date'].dt.year == 2023) & (marketing_df['date'].dt.month == 3)]\n",
        "\n",
        "# Nhóm dữ liệu theo kênh và tính tổng chi phí\n",
        "marketing_by_channel = marketing_march_df.groupby('channel')['spending'].sum().reset_index()\n",
        "\n",
        "# Vẽ biểu đồ\n",
        "plt.figure(figsize=(10, 6))\n",
        "sns.barplot(x='channel', y='spending', data=marketing_by_channel, palette='viridis')\n",
        "plt.title('Tổng Chi Phí Marketing theo Kênh trong Tháng 3/2023')\n",
        "plt.xlabel('Kênh Marketing')\n",
        "plt.ylabel('Chi phí ($)')\n",
        "plt.xticks(rotation=45)\n",
        "plt.show()"
      ],
      "metadata": {
        "colab": {
          "base_uri": "https://localhost:8080/",
          "height": 717
        },
        "id": "CMfxqbXsQ8Nx",
        "outputId": "6587344b-9b04-4f96-ae65-9926376bda94"
      },
      "execution_count": null,
      "outputs": [
        {
          "output_type": "stream",
          "name": "stderr",
          "text": [
            "/tmp/ipython-input-1720166489.py:14: FutureWarning: \n",
            "\n",
            "Passing `palette` without assigning `hue` is deprecated and will be removed in v0.14.0. Assign the `x` variable to `hue` and set `legend=False` for the same effect.\n",
            "\n",
            "  sns.barplot(x='channel', y='spending', data=marketing_by_channel, palette='viridis')\n"
          ]
        },
        {
          "output_type": "display_data",
          "data": {
            "text/plain": [
              "<Figure size 1000x600 with 1 Axes>"
            ],
            "image/png": "[encoded data removed]"
          },
          "metadata": {}
        }
      ]
    },
    {
      "cell_type": "markdown",
      "source": [
        "*2. Biểu đồ cột So sánh các Chỉ số Tài chính Chính*"
      ],
      "metadata": {
        "id": "w75oOMWaRBNO"
      }
    },
    {
      "cell_type": "code",
      "source": [
        "import matplotlib.pyplot as plt\n",
        "import seaborn as sns\n",
        "import pandas as pd\n",
        "\n",
        "# Giả sử các biến arpu, gross_margin, cac đã được tính toán\n",
        "# metrics = {\n",
        "#     'ARPU': arpu,\n",
        "#     'Gross Margin': gross_margin,\n",
        "#     'CAC': cac,\n",
        "# }\n",
        "# metrics_df = pd.DataFrame(list(metrics.items()), columns=['Metric', 'Value'])\n",
        "\n",
        "# Tạo một DataFrame giả định để minh họa nếu bạn chưa có dữ liệu\n",
        "metrics_data = {'Metric': ['ARPU', 'Gross Margin', 'CAC'],\n",
        "                'Value': [75, 50, 50]}\n",
        "metrics_df = pd.DataFrame(metrics_data)\n",
        "\n",
        "# Vẽ biểu đồ\n",
        "plt.figure(figsize=(8, 6))\n",
        "sns.barplot(x='Metric', y='Value', data=metrics_df, palette='magma')\n",
        "plt.title('So Sánh các Chỉ Số Tài Chính Chính')\n",
        "plt.xlabel('Chỉ số')\n",
        "plt.ylabel('Giá trị ($)')\n",
        "plt.show()"
      ],
      "metadata": {
        "id": "IAjY3d88lTvI",
        "colab": {
          "base_uri": "https://localhost:8080/",
          "height": 651
        },
        "outputId": "4440a3c2-f8de-45a9-86a5-bff607ead819"
      },
      "execution_count": null,
      "outputs": [
        {
          "output_type": "stream",
          "name": "stderr",
          "text": [
            "/tmp/ipython-input-372112227.py:20: FutureWarning: \n",
            "\n",
            "Passing `palette` without assigning `hue` is deprecated and will be removed in v0.14.0. Assign the `x` variable to `hue` and set `legend=False` for the same effect.\n",
            "\n",
            "  sns.barplot(x='Metric', y='Value', data=metrics_df, palette='magma')\n"
          ]
        },
        {
          "output_type": "display_data",
          "data": {
            "text/plain": [
              "<Figure size 800x600 with 1 Axes>"
            ],
            "image/png": "[encoded data removed]"
          },
          "metadata": {}
        }
      ]
    },
    {
      "cell_type": "markdown",
      "source": [
        "*3. Biểu đồ tròn Phân bổ COGS*"
      ],
      "metadata": {
        "id": "TJBcWebpRLB4"
      }
    },
    {
      "cell_type": "code",
      "source": [
        "import matplotlib.pyplot as plt\n",
        "import pandas as pd\n",
        "\n",
        "# Giả sử các biến server_costs, support_payroll, engineering_payroll đã được tính toán\n",
        "# cogs_breakdown = {\n",
        "#     'Chi phí máy chủ': server_costs,\n",
        "#     'Lương đội ngũ Hỗ trợ': support_payroll,\n",
        "#     'Lương đội ngũ Kỹ thuật': engineering_payroll,\n",
        "# }\n",
        "\n",
        "# Tạo một Dictionary giả định để minh họa nếu bạn chưa có dữ liệu\n",
        "cogs_breakdown = {\n",
        "    'Chi phí máy chủ': 8400 + 4400, # Ví dụ từ Monthly expenses\n",
        "    'Lương đội ngũ Hỗ trợ': 600 + 500 + 450, # Ví dụ từ Payroll\n",
        "    'Lương đội ngũ Kỹ thuật': 2500 + 1700 + 1000, # Ví dụ từ Payroll\n",
        "}\n",
        "\n",
        "labels = cogs_breakdown.keys()\n",
        "sizes = cogs_breakdown.values()\n",
        "colors = sns.color_palette('pastel')\n",
        "\n",
        "# Vẽ biểu đồ tròn\n",
        "plt.figure(figsize=(8, 8))\n",
        "plt.pie(sizes, labels=labels, autopct='%1.1f%%', startangle=140, colors=colors)\n",
        "plt.title('Cơ cấu Giá vốn hàng bán (COGS) trong Tháng 3/2023')\n",
        "plt.show()"
      ],
      "metadata": {
        "id": "oGwDdJUplTt5",
        "colab": {
          "base_uri": "https://localhost:8080/",
          "height": 676
        },
        "outputId": "c2499fab-0966-421e-9762-c3863282d15e"
      },
      "execution_count": null,
      "outputs": [
        {
          "output_type": "display_data",
          "data": {
            "text/plain": [
              "<Figure size 800x800 with 1 Axes>"
            ],
            "image/png": "[encoded data removed]"
          },
          "metadata": {}
        }
      ]
    },
    {
      "cell_type": "code",
      "source": [],
      "metadata": {
        "id": "KivMBYvolTqu"
      },
      "execution_count": null,
      "outputs": []
    },
    {
      "cell_type": "code",
      "source": [],
      "metadata": {
        "id": "8-b1xjrHlTpd"
      },
      "execution_count": null,
      "outputs": []
    },
    {
      "cell_type": "code",
      "source": [],
      "metadata": {
        "id": "5UMRmBZylTfn"
      },
      "execution_count": null,
      "outputs": []
    },
    {
      "cell_type": "code",
      "execution_count": null,
      "metadata": {
        "id": "dKcxm6lXlFao"
      },
      "outputs": [],
      "source": []
    }
  ]
}